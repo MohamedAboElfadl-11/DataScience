{
 "cells": [
  {
   "cell_type": "markdown",
   "id": "d4f415b3",
   "metadata": {},
   "source": [
    "# Import the Librarys"
   ]
  },
  {
   "cell_type": "code",
   "execution_count": 109,
   "id": "64cef385",
   "metadata": {},
   "outputs": [],
   "source": [
    "import pandas as pd\n",
    "import numpy as np\n",
    "import matplotlib.pyplot as plt\n",
    "%matplotlib inline\n",
    "import seaborn as sns"
   ]
  },
  {
   "cell_type": "markdown",
   "id": "9c6ff980",
   "metadata": {},
   "source": [
    "# Read Data "
   ]
  },
  {
   "cell_type": "code",
   "execution_count": 110,
   "id": "9f6c5db0",
   "metadata": {},
   "outputs": [],
   "source": [
    "df = pd.read_csv('clean_supermarket.csv')"
   ]
  },
  {
   "cell_type": "markdown",
   "id": "da11b85e",
   "metadata": {},
   "source": [
    "# Exploring Data"
   ]
  },
  {
   "cell_type": "code",
   "execution_count": 111,
   "id": "5269777e",
   "metadata": {},
   "outputs": [
    {
     "data": {
      "text/html": [
       "<div>\n",
       "<style scoped>\n",
       "    .dataframe tbody tr th:only-of-type {\n",
       "        vertical-align: middle;\n",
       "    }\n",
       "\n",
       "    .dataframe tbody tr th {\n",
       "        vertical-align: top;\n",
       "    }\n",
       "\n",
       "    .dataframe thead th {\n",
       "        text-align: right;\n",
       "    }\n",
       "</style>\n",
       "<table border=\"1\" class=\"dataframe\">\n",
       "  <thead>\n",
       "    <tr style=\"text-align: right;\">\n",
       "      <th></th>\n",
       "      <th>Invoice ID</th>\n",
       "      <th>Branch</th>\n",
       "      <th>City</th>\n",
       "      <th>Customer type</th>\n",
       "      <th>Gender</th>\n",
       "      <th>Product line</th>\n",
       "      <th>Unit price</th>\n",
       "      <th>Quantity</th>\n",
       "      <th>Tax 5%</th>\n",
       "      <th>Total</th>\n",
       "      <th>Date</th>\n",
       "      <th>Time</th>\n",
       "      <th>Payment</th>\n",
       "      <th>cogs</th>\n",
       "      <th>gross margin percentage</th>\n",
       "      <th>gross income</th>\n",
       "      <th>Rating</th>\n",
       "    </tr>\n",
       "  </thead>\n",
       "  <tbody>\n",
       "    <tr>\n",
       "      <th>0</th>\n",
       "      <td>750-67-8428</td>\n",
       "      <td>A</td>\n",
       "      <td>Yangon</td>\n",
       "      <td>Member</td>\n",
       "      <td>Female</td>\n",
       "      <td>Health and beauty</td>\n",
       "      <td>74.69</td>\n",
       "      <td>7</td>\n",
       "      <td>26.1415</td>\n",
       "      <td>548.9715</td>\n",
       "      <td>01-05-19</td>\n",
       "      <td>13:08</td>\n",
       "      <td>Ewallet</td>\n",
       "      <td>522.83</td>\n",
       "      <td>4.761905</td>\n",
       "      <td>26.1415</td>\n",
       "      <td>9.1</td>\n",
       "    </tr>\n",
       "    <tr>\n",
       "      <th>1</th>\n",
       "      <td>287-83-1405</td>\n",
       "      <td>A</td>\n",
       "      <td>Yangon</td>\n",
       "      <td>Normal</td>\n",
       "      <td>Male</td>\n",
       "      <td>Health and beauty</td>\n",
       "      <td>25.43</td>\n",
       "      <td>6</td>\n",
       "      <td>7.6290</td>\n",
       "      <td>160.2090</td>\n",
       "      <td>02-12-19</td>\n",
       "      <td>19:01</td>\n",
       "      <td>Ewallet</td>\n",
       "      <td>152.58</td>\n",
       "      <td>4.761905</td>\n",
       "      <td>7.6290</td>\n",
       "      <td>7.0</td>\n",
       "    </tr>\n",
       "    <tr>\n",
       "      <th>2</th>\n",
       "      <td>827-77-7633</td>\n",
       "      <td>A</td>\n",
       "      <td>Yangon</td>\n",
       "      <td>Normal</td>\n",
       "      <td>Male</td>\n",
       "      <td>Sports and travel</td>\n",
       "      <td>98.09</td>\n",
       "      <td>9</td>\n",
       "      <td>44.1405</td>\n",
       "      <td>926.9505</td>\n",
       "      <td>2/17/2019</td>\n",
       "      <td>19:41</td>\n",
       "      <td>Cash</td>\n",
       "      <td>882.81</td>\n",
       "      <td>4.761905</td>\n",
       "      <td>44.1405</td>\n",
       "      <td>9.3</td>\n",
       "    </tr>\n",
       "    <tr>\n",
       "      <th>3</th>\n",
       "      <td>719-89-8991</td>\n",
       "      <td>A</td>\n",
       "      <td>Yangon</td>\n",
       "      <td>Member</td>\n",
       "      <td>Female</td>\n",
       "      <td>Sports and travel</td>\n",
       "      <td>91.41</td>\n",
       "      <td>5</td>\n",
       "      <td>22.8525</td>\n",
       "      <td>479.9025</td>\n",
       "      <td>2/25/2019</td>\n",
       "      <td>16:03</td>\n",
       "      <td>Ewallet</td>\n",
       "      <td>457.05</td>\n",
       "      <td>4.761905</td>\n",
       "      <td>22.8525</td>\n",
       "      <td>7.1</td>\n",
       "    </tr>\n",
       "    <tr>\n",
       "      <th>4</th>\n",
       "      <td>534-01-4457</td>\n",
       "      <td>A</td>\n",
       "      <td>Yangon</td>\n",
       "      <td>Normal</td>\n",
       "      <td>Male</td>\n",
       "      <td>Food and beverages</td>\n",
       "      <td>81.71</td>\n",
       "      <td>6</td>\n",
       "      <td>24.5130</td>\n",
       "      <td>514.7730</td>\n",
       "      <td>1/27/2019</td>\n",
       "      <td>14:36</td>\n",
       "      <td>Credit card</td>\n",
       "      <td>490.26</td>\n",
       "      <td>4.761905</td>\n",
       "      <td>24.5130</td>\n",
       "      <td>8.0</td>\n",
       "    </tr>\n",
       "  </tbody>\n",
       "</table>\n",
       "</div>"
      ],
      "text/plain": [
       "    Invoice ID Branch    City Customer type  Gender        Product line  \\\n",
       "0  750-67-8428      A  Yangon        Member  Female   Health and beauty   \n",
       "1  287-83-1405      A  Yangon        Normal    Male   Health and beauty   \n",
       "2  827-77-7633      A  Yangon        Normal    Male   Sports and travel   \n",
       "3  719-89-8991      A  Yangon        Member  Female   Sports and travel   \n",
       "4  534-01-4457      A  Yangon        Normal    Male  Food and beverages   \n",
       "\n",
       "   Unit price  Quantity   Tax 5%     Total       Date   Time      Payment  \\\n",
       "0       74.69         7  26.1415  548.9715   01-05-19  13:08      Ewallet   \n",
       "1       25.43         6   7.6290  160.2090   02-12-19  19:01      Ewallet   \n",
       "2       98.09         9  44.1405  926.9505  2/17/2019  19:41         Cash   \n",
       "3       91.41         5  22.8525  479.9025  2/25/2019  16:03      Ewallet   \n",
       "4       81.71         6  24.5130  514.7730  1/27/2019  14:36  Credit card   \n",
       "\n",
       "     cogs  gross margin percentage  gross income  Rating  \n",
       "0  522.83                 4.761905       26.1415     9.1  \n",
       "1  152.58                 4.761905        7.6290     7.0  \n",
       "2  882.81                 4.761905       44.1405     9.3  \n",
       "3  457.05                 4.761905       22.8525     7.1  \n",
       "4  490.26                 4.761905       24.5130     8.0  "
      ]
     },
     "execution_count": 111,
     "metadata": {},
     "output_type": "execute_result"
    }
   ],
   "source": [
    "df.head()"
   ]
  },
  {
   "cell_type": "code",
   "execution_count": 112,
   "id": "3e0ea6fb",
   "metadata": {},
   "outputs": [
    {
     "data": {
      "text/html": [
       "<div>\n",
       "<style scoped>\n",
       "    .dataframe tbody tr th:only-of-type {\n",
       "        vertical-align: middle;\n",
       "    }\n",
       "\n",
       "    .dataframe tbody tr th {\n",
       "        vertical-align: top;\n",
       "    }\n",
       "\n",
       "    .dataframe thead th {\n",
       "        text-align: right;\n",
       "    }\n",
       "</style>\n",
       "<table border=\"1\" class=\"dataframe\">\n",
       "  <thead>\n",
       "    <tr style=\"text-align: right;\">\n",
       "      <th></th>\n",
       "      <th>Invoice ID</th>\n",
       "      <th>Branch</th>\n",
       "      <th>City</th>\n",
       "      <th>Customer type</th>\n",
       "      <th>Gender</th>\n",
       "      <th>Product line</th>\n",
       "      <th>Unit price</th>\n",
       "      <th>Quantity</th>\n",
       "      <th>Tax 5%</th>\n",
       "      <th>Total</th>\n",
       "      <th>Date</th>\n",
       "      <th>Time</th>\n",
       "      <th>Payment</th>\n",
       "      <th>cogs</th>\n",
       "      <th>gross margin percentage</th>\n",
       "      <th>gross income</th>\n",
       "      <th>Rating</th>\n",
       "    </tr>\n",
       "  </thead>\n",
       "  <tbody>\n",
       "    <tr>\n",
       "      <th>985</th>\n",
       "      <td>149-14-0304</td>\n",
       "      <td>C</td>\n",
       "      <td>Naypyitaw</td>\n",
       "      <td>Member</td>\n",
       "      <td>Female</td>\n",
       "      <td>Health and beauty</td>\n",
       "      <td>28.50</td>\n",
       "      <td>8</td>\n",
       "      <td>11.4000</td>\n",
       "      <td>239.4000</td>\n",
       "      <td>02-06-19</td>\n",
       "      <td>14:24</td>\n",
       "      <td>Cash</td>\n",
       "      <td>228.00</td>\n",
       "      <td>4.761905</td>\n",
       "      <td>11.4000</td>\n",
       "      <td>6.6</td>\n",
       "    </tr>\n",
       "    <tr>\n",
       "      <th>986</th>\n",
       "      <td>592-46-1692</td>\n",
       "      <td>C</td>\n",
       "      <td>Naypyitaw</td>\n",
       "      <td>Member</td>\n",
       "      <td>Female</td>\n",
       "      <td>Food and beverages</td>\n",
       "      <td>36.77</td>\n",
       "      <td>7</td>\n",
       "      <td>12.8695</td>\n",
       "      <td>270.2595</td>\n",
       "      <td>01-11-19</td>\n",
       "      <td>20:10</td>\n",
       "      <td>Cash</td>\n",
       "      <td>257.39</td>\n",
       "      <td>4.761905</td>\n",
       "      <td>12.8695</td>\n",
       "      <td>7.4</td>\n",
       "    </tr>\n",
       "    <tr>\n",
       "      <th>987</th>\n",
       "      <td>746-19-0921</td>\n",
       "      <td>C</td>\n",
       "      <td>Naypyitaw</td>\n",
       "      <td>Normal</td>\n",
       "      <td>Male</td>\n",
       "      <td>Food and beverages</td>\n",
       "      <td>21.58</td>\n",
       "      <td>1</td>\n",
       "      <td>1.0790</td>\n",
       "      <td>22.6590</td>\n",
       "      <td>02-09-19</td>\n",
       "      <td>10:02</td>\n",
       "      <td>Ewallet</td>\n",
       "      <td>21.58</td>\n",
       "      <td>4.761905</td>\n",
       "      <td>1.0790</td>\n",
       "      <td>7.2</td>\n",
       "    </tr>\n",
       "    <tr>\n",
       "      <th>988</th>\n",
       "      <td>320-32-8842</td>\n",
       "      <td>C</td>\n",
       "      <td>Naypyitaw</td>\n",
       "      <td>Member</td>\n",
       "      <td>Female</td>\n",
       "      <td>Food and beverages</td>\n",
       "      <td>22.62</td>\n",
       "      <td>1</td>\n",
       "      <td>1.1310</td>\n",
       "      <td>23.7510</td>\n",
       "      <td>3/17/2019</td>\n",
       "      <td>18:58</td>\n",
       "      <td>Cash</td>\n",
       "      <td>22.62</td>\n",
       "      <td>4.761905</td>\n",
       "      <td>1.1310</td>\n",
       "      <td>6.4</td>\n",
       "    </tr>\n",
       "    <tr>\n",
       "      <th>989</th>\n",
       "      <td>719-76-3868</td>\n",
       "      <td>C</td>\n",
       "      <td>Naypyitaw</td>\n",
       "      <td>Member</td>\n",
       "      <td>Male</td>\n",
       "      <td>Food and beverages</td>\n",
       "      <td>94.26</td>\n",
       "      <td>4</td>\n",
       "      <td>18.8520</td>\n",
       "      <td>395.8920</td>\n",
       "      <td>03-12-19</td>\n",
       "      <td>16:30</td>\n",
       "      <td>Cash</td>\n",
       "      <td>377.04</td>\n",
       "      <td>4.761905</td>\n",
       "      <td>18.8520</td>\n",
       "      <td>8.6</td>\n",
       "    </tr>\n",
       "  </tbody>\n",
       "</table>\n",
       "</div>"
      ],
      "text/plain": [
       "      Invoice ID Branch       City Customer type  Gender        Product line  \\\n",
       "985  149-14-0304      C  Naypyitaw        Member  Female   Health and beauty   \n",
       "986  592-46-1692      C  Naypyitaw        Member  Female  Food and beverages   \n",
       "987  746-19-0921      C  Naypyitaw        Normal    Male  Food and beverages   \n",
       "988  320-32-8842      C  Naypyitaw        Member  Female  Food and beverages   \n",
       "989  719-76-3868      C  Naypyitaw        Member    Male  Food and beverages   \n",
       "\n",
       "     Unit price  Quantity   Tax 5%     Total       Date   Time  Payment  \\\n",
       "985       28.50         8  11.4000  239.4000   02-06-19  14:24     Cash   \n",
       "986       36.77         7  12.8695  270.2595   01-11-19  20:10     Cash   \n",
       "987       21.58         1   1.0790   22.6590   02-09-19  10:02  Ewallet   \n",
       "988       22.62         1   1.1310   23.7510  3/17/2019  18:58     Cash   \n",
       "989       94.26         4  18.8520  395.8920   03-12-19  16:30     Cash   \n",
       "\n",
       "       cogs  gross margin percentage  gross income  Rating  \n",
       "985  228.00                 4.761905       11.4000     6.6  \n",
       "986  257.39                 4.761905       12.8695     7.4  \n",
       "987   21.58                 4.761905        1.0790     7.2  \n",
       "988   22.62                 4.761905        1.1310     6.4  \n",
       "989  377.04                 4.761905       18.8520     8.6  "
      ]
     },
     "execution_count": 112,
     "metadata": {},
     "output_type": "execute_result"
    }
   ],
   "source": [
    "df.tail()"
   ]
  },
  {
   "cell_type": "markdown",
   "id": "8f2be110",
   "metadata": {},
   "source": [
    "# 1) what is product lines in all branchs A,B and C ?"
   ]
  },
  {
   "cell_type": "code",
   "execution_count": 113,
   "id": "28b64f86",
   "metadata": {},
   "outputs": [
    {
     "data": {
      "text/plain": [
       "array(['Health and beauty', 'Sports and travel', 'Food and beverages',\n",
       "       'Home and lifestyle', 'Electronic accessories',\n",
       "       'Fashion accessories'], dtype=object)"
      ]
     },
     "execution_count": 113,
     "metadata": {},
     "output_type": "execute_result"
    }
   ],
   "source": [
    "df['Product line'].unique()"
   ]
  },
  {
   "cell_type": "markdown",
   "id": "40b829f3",
   "metadata": {},
   "source": [
    "# 2) what is the best selling product lines in branch A ?"
   ]
  },
  {
   "cell_type": "code",
   "execution_count": 114,
   "id": "48c3c402",
   "metadata": {},
   "outputs": [
    {
     "data": {
      "text/plain": [
       "Product line\n",
       "Electronic accessories    322\n",
       "Fashion accessories       253\n",
       "Food and beverages        304\n",
       "Health and beauty         257\n",
       "Home and lifestyle        371\n",
       "Sports and travel         333\n",
       "Name: Quantity, dtype: int64"
      ]
     },
     "execution_count": 114,
     "metadata": {},
     "output_type": "execute_result"
    }
   ],
   "source": [
    "df[df['Branch']=='A'].groupby('Product line')['Quantity'].sum()"
   ]
  },
  {
   "cell_type": "markdown",
   "id": "12134c5a",
   "metadata": {},
   "source": [
    "# 3) How many invoices in branch A ?"
   ]
  },
  {
   "cell_type": "code",
   "execution_count": 115,
   "id": "443c9132",
   "metadata": {},
   "outputs": [
    {
     "data": {
      "text/plain": [
       "338"
      ]
     },
     "execution_count": 115,
     "metadata": {},
     "output_type": "execute_result"
    }
   ],
   "source": [
    "df[df['Branch'] == 'A']['Invoice ID'].count()"
   ]
  },
  {
   "cell_type": "markdown",
   "id": "2d5dad35",
   "metadata": {},
   "source": [
    "# 4) what is the total sales of branch A ?"
   ]
  },
  {
   "cell_type": "code",
   "execution_count": 116,
   "id": "966f92c1",
   "metadata": {},
   "outputs": [
    {
     "data": {
      "text/plain": [
       "104829.9525"
      ]
     },
     "execution_count": 116,
     "metadata": {},
     "output_type": "execute_result"
    }
   ],
   "source": [
    "df[df['Branch']=='A']['Total'].sum()"
   ]
  },
  {
   "cell_type": "markdown",
   "id": "1563d991",
   "metadata": {},
   "source": [
    "# 5) The highest bill during three months for Branch A"
   ]
  },
  {
   "cell_type": "code",
   "execution_count": 117,
   "id": "d794a3aa",
   "metadata": {},
   "outputs": [
    {
     "data": {
      "text/plain": [
       "Invoice ID                         125-45-2293\n",
       "Branch                                       A\n",
       "City                                    Yangon\n",
       "Customer type                           Normal\n",
       "Gender                                  Female\n",
       "Product line               Fashion accessories\n",
       "Unit price                                99.1\n",
       "Quantity                                     6\n",
       "Tax 5%                                   29.73\n",
       "Total                                   624.33\n",
       "Date                                 1/19/2019\n",
       "Time                                     13:11\n",
       "Payment                                   Cash\n",
       "cogs                                     594.6\n",
       "gross margin percentage               4.761905\n",
       "gross income                             29.73\n",
       "Rating                                     4.2\n",
       "Name: 145, dtype: object"
      ]
     },
     "execution_count": 117,
     "metadata": {},
     "output_type": "execute_result"
    }
   ],
   "source": [
    "branch_A_data = df[df['Branch'] == 'A']\n",
    "product_sales = branch_A_data.groupby('Product line')['Quantity'].sum()\n",
    "product_sales = product_sales.sort_values()\n",
    "least_selling_product = product_sales.index[0]\n",
    "least_selling_product_data = branch_A_data[branch_A_data['Product line'] == least_selling_product]\n",
    "least_selling_product_data = least_selling_product_data.sort_values(by='Unit price', ascending=False)\n",
    "high_price_product = least_selling_product_data.iloc[0]\n",
    "high_price_product"
   ]
  },
  {
   "cell_type": "markdown",
   "id": "17acae5f",
   "metadata": {},
   "source": [
    "# 6) What is the total ratings in branch A ?"
   ]
  },
  {
   "cell_type": "code",
   "execution_count": 118,
   "id": "85cb0b85",
   "metadata": {},
   "outputs": [
    {
     "data": {
      "text/plain": [
       "2375.8999999999996"
      ]
     },
     "execution_count": 118,
     "metadata": {},
     "output_type": "execute_result"
    }
   ],
   "source": [
    "df[df['Branch']=='A']['Rating'].sum()"
   ]
  },
  {
   "cell_type": "markdown",
   "id": "b4fa4894",
   "metadata": {},
   "source": [
    "# 7) How many member customers and normal customers in branch A ?"
   ]
  },
  {
   "cell_type": "code",
   "execution_count": 119,
   "id": "556d4f78",
   "metadata": {
    "scrolled": false
   },
   "outputs": [
    {
     "data": {
      "text/plain": [
       "Normal    172\n",
       "Member    166\n",
       "Name: Customer type, dtype: int64"
      ]
     },
     "execution_count": 119,
     "metadata": {},
     "output_type": "execute_result"
    }
   ],
   "source": [
    "df[df['Branch']=='A']['Customer type'].value_counts()"
   ]
  },
  {
   "cell_type": "markdown",
   "id": "da2cf1e0",
   "metadata": {},
   "source": [
    "#  8)  What is the total money of invoices for each payment type in branch A ?"
   ]
  },
  {
   "cell_type": "code",
   "execution_count": 120,
   "id": "56c84d76",
   "metadata": {},
   "outputs": [
    {
     "data": {
      "text/plain": [
       "Payment\n",
       "Cash           33781.2510\n",
       "Credit card    32055.4605\n",
       "Ewallet        38993.2410\n",
       "Name: Total, dtype: float64"
      ]
     },
     "execution_count": 120,
     "metadata": {},
     "output_type": "execute_result"
    }
   ],
   "source": [
    "df[df['Branch']=='A'].groupby('Payment')['Total'].sum()"
   ]
  },
  {
   "cell_type": "markdown",
   "id": "4189ca8d",
   "metadata": {},
   "source": [
    "# 9) what is the best selling product lines in branch B ?"
   ]
  },
  {
   "cell_type": "code",
   "execution_count": 121,
   "id": "3f25a84d",
   "metadata": {},
   "outputs": [
    {
     "data": {
      "text/plain": [
       "Product line\n",
       "Electronic accessories    316\n",
       "Fashion accessories       297\n",
       "Food and beverages        270\n",
       "Health and beauty         320\n",
       "Home and lifestyle        275\n",
       "Sports and travel         322\n",
       "Name: Quantity, dtype: int64"
      ]
     },
     "execution_count": 121,
     "metadata": {},
     "output_type": "execute_result"
    }
   ],
   "source": [
    "df[df['Branch']=='B'].groupby('Product line')['Quantity'].sum()"
   ]
  },
  {
   "cell_type": "markdown",
   "id": "de1a1a6a",
   "metadata": {},
   "source": [
    "# 10) How many invoices in branch B ?"
   ]
  },
  {
   "cell_type": "code",
   "execution_count": 122,
   "id": "407592f7",
   "metadata": {},
   "outputs": [
    {
     "data": {
      "text/plain": [
       "330"
      ]
     },
     "execution_count": 122,
     "metadata": {},
     "output_type": "execute_result"
    }
   ],
   "source": [
    "df[df['Branch'] == 'B']['Invoice ID'].count()"
   ]
  },
  {
   "cell_type": "markdown",
   "id": "c643f1e7",
   "metadata": {},
   "source": [
    "# 11) what is the total sales of branch B ? "
   ]
  },
  {
   "cell_type": "code",
   "execution_count": 123,
   "id": "b5e4e949",
   "metadata": {},
   "outputs": [
    {
     "data": {
      "text/plain": [
       "104829.9525"
      ]
     },
     "execution_count": 123,
     "metadata": {},
     "output_type": "execute_result"
    }
   ],
   "source": [
    "df[df['Branch']=='A']['Total'].sum()"
   ]
  },
  {
   "cell_type": "markdown",
   "id": "bb57d908",
   "metadata": {},
   "source": [
    "# 12) The highest bill during three months for Branch B?"
   ]
  },
  {
   "cell_type": "code",
   "execution_count": 124,
   "id": "4e49e72e",
   "metadata": {},
   "outputs": [
    {
     "data": {
      "text/plain": [
       "Invoice ID                        868-52-7573\n",
       "Branch                                      B\n",
       "City                                 Mandalay\n",
       "Customer type                          Normal\n",
       "Gender                                 Female\n",
       "Product line               Food and beverages\n",
       "Unit price                              99.69\n",
       "Quantity                                    5\n",
       "Tax 5%                                24.9225\n",
       "Total                                523.3725\n",
       "Date                                1/14/2019\n",
       "Time                                    12:09\n",
       "Payment                                  Cash\n",
       "cogs                                   498.45\n",
       "gross margin percentage              4.761905\n",
       "gross income                          24.9225\n",
       "Rating                                    9.9\n",
       "Name: 562, dtype: object"
      ]
     },
     "execution_count": 124,
     "metadata": {},
     "output_type": "execute_result"
    }
   ],
   "source": [
    "branch_A_data = df[df['Branch'] == 'B']\n",
    "product_sales = branch_A_data.groupby('Product line')['Quantity'].sum()\n",
    "product_sales = product_sales.sort_values()\n",
    "least_selling_product = product_sales.index[0]\n",
    "least_selling_product_data = branch_A_data[branch_A_data['Product line'] == least_selling_product]\n",
    "least_selling_product_data = least_selling_product_data.sort_values(by='Unit price', ascending=False)\n",
    "high_price_product = least_selling_product_data.iloc[0]\n",
    "high_price_product"
   ]
  },
  {
   "cell_type": "markdown",
   "id": "8c2590a2",
   "metadata": {},
   "source": [
    "# 13) What is the total ratings in branch B ?"
   ]
  },
  {
   "cell_type": "code",
   "execution_count": 125,
   "id": "356f17a9",
   "metadata": {},
   "outputs": [
    {
     "data": {
      "text/plain": [
       "2254.3"
      ]
     },
     "execution_count": 125,
     "metadata": {},
     "output_type": "execute_result"
    }
   ],
   "source": [
    "df[df['Branch']=='B']['Rating'].sum()"
   ]
  },
  {
   "cell_type": "markdown",
   "id": "ca31a782",
   "metadata": {},
   "source": [
    "# 14) How many member customers and normal customers in branch B ?"
   ]
  },
  {
   "cell_type": "code",
   "execution_count": 126,
   "id": "c7f7e058",
   "metadata": {},
   "outputs": [
    {
     "data": {
      "text/plain": [
       "Member    165\n",
       "Normal    165\n",
       "Name: Customer type, dtype: int64"
      ]
     },
     "execution_count": 126,
     "metadata": {},
     "output_type": "execute_result"
    }
   ],
   "source": [
    "df[df['Branch']=='B']['Customer type'].value_counts()"
   ]
  },
  {
   "cell_type": "markdown",
   "id": "47697d8c",
   "metadata": {},
   "source": [
    "# 15) What is the total money of invoices for each payment type in branch B ?"
   ]
  },
  {
   "cell_type": "code",
   "execution_count": 127,
   "id": "9269b589",
   "metadata": {},
   "outputs": [
    {
     "data": {
      "text/plain": [
       "Payment\n",
       "Cash           35339.4615\n",
       "Credit card    36322.4715\n",
       "Ewallet        32490.8640\n",
       "Name: Total, dtype: float64"
      ]
     },
     "execution_count": 127,
     "metadata": {},
     "output_type": "execute_result"
    }
   ],
   "source": [
    "df[df['Branch']=='B'].groupby('Payment')['Total'].sum()"
   ]
  },
  {
   "cell_type": "markdown",
   "id": "6bc3d62c",
   "metadata": {},
   "source": [
    "# 16) what is the best selling product lines in branch C ?"
   ]
  },
  {
   "cell_type": "code",
   "execution_count": 128,
   "id": "5197c5b9",
   "metadata": {},
   "outputs": [
    {
     "data": {
      "text/plain": [
       "Product line\n",
       "Electronic accessories    333\n",
       "Fashion accessories       322\n",
       "Food and beverages        359\n",
       "Health and beauty         277\n",
       "Home and lifestyle        225\n",
       "Sports and travel         255\n",
       "Name: Quantity, dtype: int64"
      ]
     },
     "execution_count": 128,
     "metadata": {},
     "output_type": "execute_result"
    }
   ],
   "source": [
    "df[df['Branch']=='C'].groupby('Product line')['Quantity'].sum()"
   ]
  },
  {
   "cell_type": "markdown",
   "id": "71a835ec",
   "metadata": {},
   "source": [
    "# 17) How many invoices in branch C ?"
   ]
  },
  {
   "cell_type": "code",
   "execution_count": 129,
   "id": "ffb2d892",
   "metadata": {},
   "outputs": [
    {
     "data": {
      "text/plain": [
       "322"
      ]
     },
     "execution_count": 129,
     "metadata": {},
     "output_type": "execute_result"
    }
   ],
   "source": [
    "df[df['Branch'] == 'C']['Invoice ID'].count()"
   ]
  },
  {
   "cell_type": "markdown",
   "id": "0ebfecb3",
   "metadata": {},
   "source": [
    "# 18) what is the total sales of branch C ?"
   ]
  },
  {
   "cell_type": "code",
   "execution_count": 130,
   "id": "afe485f5",
   "metadata": {},
   "outputs": [
    {
     "data": {
      "text/plain": [
       "104441.4315"
      ]
     },
     "execution_count": 130,
     "metadata": {},
     "output_type": "execute_result"
    }
   ],
   "source": [
    "df[df['Branch']=='C']['Total'].sum()"
   ]
  },
  {
   "cell_type": "markdown",
   "id": "757ba741",
   "metadata": {},
   "source": [
    "# 19) The highest bill during three months for Branch C?"
   ]
  },
  {
   "cell_type": "code",
   "execution_count": 131,
   "id": "a500bce2",
   "metadata": {},
   "outputs": [
    {
     "data": {
      "text/plain": [
       "Invoice ID                        725-96-3778\n",
       "Branch                                      C\n",
       "City                                Naypyitaw\n",
       "Customer type                          Member\n",
       "Gender                                 Female\n",
       "Product line               Home and lifestyle\n",
       "Unit price                              89.25\n",
       "Quantity                                    8\n",
       "Tax 5%                                   35.7\n",
       "Total                                   749.7\n",
       "Date                                1/20/2019\n",
       "Time                                    10:13\n",
       "Payment                                  Cash\n",
       "cogs                                    714.0\n",
       "gross margin percentage              4.761905\n",
       "gross income                             35.7\n",
       "Rating                                    4.7\n",
       "Name: 763, dtype: object"
      ]
     },
     "execution_count": 131,
     "metadata": {},
     "output_type": "execute_result"
    }
   ],
   "source": [
    "branch_A_data = df[df['Branch'] == 'C']\n",
    "product_sales = branch_A_data.groupby('Product line')['Quantity'].sum()\n",
    "product_sales = product_sales.sort_values()\n",
    "least_selling_product = product_sales.index[0]\n",
    "least_selling_product_data = branch_A_data[branch_A_data['Product line'] == least_selling_product]\n",
    "least_selling_product_data = least_selling_product_data.sort_values(by='Unit price', ascending=False)\n",
    "high_price_product = least_selling_product_data.iloc[0]\n",
    "high_price_product"
   ]
  },
  {
   "cell_type": "markdown",
   "id": "1caf6ab2",
   "metadata": {},
   "source": [
    "# 20) What is the total ratings in branch C ?"
   ]
  },
  {
   "cell_type": "code",
   "execution_count": 132,
   "id": "1c16fc14",
   "metadata": {},
   "outputs": [
    {
     "data": {
      "text/plain": [
       "2282.1000000000004"
      ]
     },
     "execution_count": 132,
     "metadata": {},
     "output_type": "execute_result"
    }
   ],
   "source": [
    "df[df['Branch']=='C']['Rating'].sum()"
   ]
  },
  {
   "cell_type": "markdown",
   "id": "0be926ac",
   "metadata": {},
   "source": [
    "# 21) How many member customers and normal customers in branch C ?"
   ]
  },
  {
   "cell_type": "code",
   "execution_count": 133,
   "id": "94d38f81",
   "metadata": {},
   "outputs": [
    {
     "data": {
      "text/plain": [
       "Member    166\n",
       "Normal    156\n",
       "Name: Customer type, dtype: int64"
      ]
     },
     "execution_count": 133,
     "metadata": {},
     "output_type": "execute_result"
    }
   ],
   "source": [
    "df[df['Branch']=='C']['Customer type'].value_counts()"
   ]
  },
  {
   "cell_type": "markdown",
   "id": "0841c7c9",
   "metadata": {},
   "source": [
    "# 22) What is the total money of invoices for each payment type in branch C ?"
   ]
  },
  {
   "cell_type": "code",
   "execution_count": 134,
   "id": "ffdea9cc",
   "metadata": {},
   "outputs": [
    {
     "data": {
      "text/plain": [
       "Payment\n",
       "Cash           41080.1475\n",
       "Credit card    28264.1100\n",
       "Ewallet        35097.1740\n",
       "Name: Total, dtype: float64"
      ]
     },
     "execution_count": 134,
     "metadata": {},
     "output_type": "execute_result"
    }
   ],
   "source": [
    "df[df['Branch']=='C'].groupby('Payment')['Total'].sum()"
   ]
  },
  {
   "cell_type": "markdown",
   "id": "80f147aa",
   "metadata": {},
   "source": [
    "#  23) What is the net profit of branch A ?"
   ]
  },
  {
   "cell_type": "code",
   "execution_count": 135,
   "id": "2e8dd241",
   "metadata": {},
   "outputs": [
    {
     "data": {
      "text/plain": [
       "99838.04999999999"
      ]
     },
     "execution_count": 135,
     "metadata": {},
     "output_type": "execute_result"
    }
   ],
   "source": [
    "df[df['Branch']=='A']['cogs'].sum()"
   ]
  },
  {
   "cell_type": "markdown",
   "id": "392efabb",
   "metadata": {},
   "source": [
    "# 24) What is the net profit of branch B ?"
   ]
  },
  {
   "cell_type": "code",
   "execution_count": 136,
   "id": "d59e6d23",
   "metadata": {},
   "outputs": [
    {
     "data": {
      "text/plain": [
       "99193.13999999998"
      ]
     },
     "execution_count": 136,
     "metadata": {},
     "output_type": "execute_result"
    }
   ],
   "source": [
    "df[df['Branch']=='B']['cogs'].sum()"
   ]
  },
  {
   "cell_type": "markdown",
   "id": "13734b64",
   "metadata": {},
   "source": [
    "# 25) What is the net profit of branch C ? "
   ]
  },
  {
   "cell_type": "code",
   "execution_count": 137,
   "id": "4eaaed6e",
   "metadata": {},
   "outputs": [
    {
     "data": {
      "text/plain": [
       "99468.03"
      ]
     },
     "execution_count": 137,
     "metadata": {},
     "output_type": "execute_result"
    }
   ],
   "source": [
    "df[df['Branch']=='C']['cogs'].sum()"
   ]
  },
  {
   "cell_type": "code",
   "execution_count": null,
   "id": "9b33f670",
   "metadata": {},
   "outputs": [],
   "source": []
  }
 ],
 "metadata": {
  "kernelspec": {
   "display_name": "Python 3 (ipykernel)",
   "language": "python",
   "name": "python3"
  },
  "language_info": {
   "codemirror_mode": {
    "name": "ipython",
    "version": 3
   },
   "file_extension": ".py",
   "mimetype": "text/x-python",
   "name": "python",
   "nbconvert_exporter": "python",
   "pygments_lexer": "ipython3",
   "version": "3.9.13"
  }
 },
 "nbformat": 4,
 "nbformat_minor": 5
}
