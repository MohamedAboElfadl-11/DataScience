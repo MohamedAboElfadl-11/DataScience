{
 "cells": [
  {
   "cell_type": "code",
   "execution_count": 9,
   "id": "eea4de45",
   "metadata": {},
   "outputs": [],
   "source": [
    "import numpy as np\n",
    "import pandas as pd\n",
    "from sklearn.datasets import fetch_openml\n",
    "from sklearn.linear_model import LinearRegression\n",
    "from sklearn.model_selection import train_test_split"
   ]
  },
  {
   "cell_type": "markdown",
   "id": "adb3750a",
   "metadata": {},
   "source": [
    "# Reading Data"
   ]
  },
  {
   "cell_type": "code",
   "execution_count": 10,
   "id": "f02e5788",
   "metadata": {},
   "outputs": [],
   "source": [
    "df = pd.read_csv('clean_supermarket.csv')"
   ]
  },
  {
   "cell_type": "markdown",
   "id": "f3667702",
   "metadata": {},
   "source": [
    "# What is correaltion between columns ?"
   ]
  },
  {
   "cell_type": "code",
   "execution_count": 11,
   "id": "fc3a68f7",
   "metadata": {},
   "outputs": [
    {
     "data": {
      "text/html": [
       "<div>\n",
       "<style scoped>\n",
       "    .dataframe tbody tr th:only-of-type {\n",
       "        vertical-align: middle;\n",
       "    }\n",
       "\n",
       "    .dataframe tbody tr th {\n",
       "        vertical-align: top;\n",
       "    }\n",
       "\n",
       "    .dataframe thead th {\n",
       "        text-align: right;\n",
       "    }\n",
       "</style>\n",
       "<table border=\"1\" class=\"dataframe\">\n",
       "  <thead>\n",
       "    <tr style=\"text-align: right;\">\n",
       "      <th></th>\n",
       "      <th>Unit price</th>\n",
       "      <th>Quantity</th>\n",
       "      <th>Tax 5%</th>\n",
       "      <th>Total</th>\n",
       "      <th>cogs</th>\n",
       "      <th>gross margin percentage</th>\n",
       "      <th>gross income</th>\n",
       "      <th>Rating</th>\n",
       "    </tr>\n",
       "  </thead>\n",
       "  <tbody>\n",
       "    <tr>\n",
       "      <th>Unit price</th>\n",
       "      <td>1.000000</td>\n",
       "      <td>-0.010571</td>\n",
       "      <td>0.623590</td>\n",
       "      <td>0.623590</td>\n",
       "      <td>0.623590</td>\n",
       "      <td>NaN</td>\n",
       "      <td>0.623590</td>\n",
       "      <td>-0.003610</td>\n",
       "    </tr>\n",
       "    <tr>\n",
       "      <th>Quantity</th>\n",
       "      <td>-0.010571</td>\n",
       "      <td>1.000000</td>\n",
       "      <td>0.699739</td>\n",
       "      <td>0.699739</td>\n",
       "      <td>0.699739</td>\n",
       "      <td>NaN</td>\n",
       "      <td>0.699739</td>\n",
       "      <td>-0.008005</td>\n",
       "    </tr>\n",
       "    <tr>\n",
       "      <th>Tax 5%</th>\n",
       "      <td>0.623590</td>\n",
       "      <td>0.699739</td>\n",
       "      <td>1.000000</td>\n",
       "      <td>1.000000</td>\n",
       "      <td>1.000000</td>\n",
       "      <td>NaN</td>\n",
       "      <td>1.000000</td>\n",
       "      <td>-0.026031</td>\n",
       "    </tr>\n",
       "    <tr>\n",
       "      <th>Total</th>\n",
       "      <td>0.623590</td>\n",
       "      <td>0.699739</td>\n",
       "      <td>1.000000</td>\n",
       "      <td>1.000000</td>\n",
       "      <td>1.000000</td>\n",
       "      <td>NaN</td>\n",
       "      <td>1.000000</td>\n",
       "      <td>-0.026031</td>\n",
       "    </tr>\n",
       "    <tr>\n",
       "      <th>cogs</th>\n",
       "      <td>0.623590</td>\n",
       "      <td>0.699739</td>\n",
       "      <td>1.000000</td>\n",
       "      <td>1.000000</td>\n",
       "      <td>1.000000</td>\n",
       "      <td>NaN</td>\n",
       "      <td>1.000000</td>\n",
       "      <td>-0.026031</td>\n",
       "    </tr>\n",
       "    <tr>\n",
       "      <th>gross margin percentage</th>\n",
       "      <td>NaN</td>\n",
       "      <td>NaN</td>\n",
       "      <td>NaN</td>\n",
       "      <td>NaN</td>\n",
       "      <td>NaN</td>\n",
       "      <td>NaN</td>\n",
       "      <td>NaN</td>\n",
       "      <td>NaN</td>\n",
       "    </tr>\n",
       "    <tr>\n",
       "      <th>gross income</th>\n",
       "      <td>0.623590</td>\n",
       "      <td>0.699739</td>\n",
       "      <td>1.000000</td>\n",
       "      <td>1.000000</td>\n",
       "      <td>1.000000</td>\n",
       "      <td>NaN</td>\n",
       "      <td>1.000000</td>\n",
       "      <td>-0.026031</td>\n",
       "    </tr>\n",
       "    <tr>\n",
       "      <th>Rating</th>\n",
       "      <td>-0.003610</td>\n",
       "      <td>-0.008005</td>\n",
       "      <td>-0.026031</td>\n",
       "      <td>-0.026031</td>\n",
       "      <td>-0.026031</td>\n",
       "      <td>NaN</td>\n",
       "      <td>-0.026031</td>\n",
       "      <td>1.000000</td>\n",
       "    </tr>\n",
       "  </tbody>\n",
       "</table>\n",
       "</div>"
      ],
      "text/plain": [
       "                         Unit price  Quantity    Tax 5%     Total      cogs  \\\n",
       "Unit price                 1.000000 -0.010571  0.623590  0.623590  0.623590   \n",
       "Quantity                  -0.010571  1.000000  0.699739  0.699739  0.699739   \n",
       "Tax 5%                     0.623590  0.699739  1.000000  1.000000  1.000000   \n",
       "Total                      0.623590  0.699739  1.000000  1.000000  1.000000   \n",
       "cogs                       0.623590  0.699739  1.000000  1.000000  1.000000   \n",
       "gross margin percentage         NaN       NaN       NaN       NaN       NaN   \n",
       "gross income               0.623590  0.699739  1.000000  1.000000  1.000000   \n",
       "Rating                    -0.003610 -0.008005 -0.026031 -0.026031 -0.026031   \n",
       "\n",
       "                         gross margin percentage  gross income    Rating  \n",
       "Unit price                                   NaN      0.623590 -0.003610  \n",
       "Quantity                                     NaN      0.699739 -0.008005  \n",
       "Tax 5%                                       NaN      1.000000 -0.026031  \n",
       "Total                                        NaN      1.000000 -0.026031  \n",
       "cogs                                         NaN      1.000000 -0.026031  \n",
       "gross margin percentage                      NaN           NaN       NaN  \n",
       "gross income                                 NaN      1.000000 -0.026031  \n",
       "Rating                                       NaN     -0.026031  1.000000  "
      ]
     },
     "execution_count": 11,
     "metadata": {},
     "output_type": "execute_result"
    }
   ],
   "source": [
    "df.corr()"
   ]
  },
  {
   "cell_type": "markdown",
   "id": "2bfa26ea",
   "metadata": {},
   "source": [
    "# Linear Regression"
   ]
  },
  {
   "cell_type": "code",
   "execution_count": 12,
   "id": "c3c1edc3",
   "metadata": {},
   "outputs": [
    {
     "name": "stdout",
     "output_type": "stream",
     "text": [
      "Accuracy: 89.03103412652881 %\n"
     ]
    }
   ],
   "source": [
    "# Split the dataset into training and testing sets\n",
    "train_data, test_data = train_test_split(df, test_size=0.1, random_state=42)\n",
    "\n",
    "# Define the input matrix X and the output vector y for the training set\n",
    "X_train = train_data[['Quantity','Unit price']]\n",
    "y_train = train_data['Total']\n",
    "\n",
    "# Define the input matrix X and the output vector y for the testing set\n",
    "X_test = test_data[['Quantity','Unit price']]\n",
    "y_test = test_data['Total']\n",
    "\n",
    "# Create a linear regression model and fit the training data\n",
    "model = LinearRegression()\n",
    "model.fit(X_train, y_train)\n",
    "\n",
    "# Make predictions on the testing data\n",
    "y_pred = model.predict(X_test)\n",
    "\n",
    "accuracy = model.score(X_train,y_train) \n",
    "\n",
    "print(\"Accuracy:\",accuracy*100,\"%\")"
   ]
  },
  {
   "cell_type": "code",
   "execution_count": null,
   "id": "b17aa52c",
   "metadata": {},
   "outputs": [],
   "source": []
  },
  {
   "cell_type": "code",
   "execution_count": null,
   "id": "055e4b82",
   "metadata": {},
   "outputs": [],
   "source": []
  }
 ],
 "metadata": {
  "kernelspec": {
   "display_name": "Python 3 (ipykernel)",
   "language": "python",
   "name": "python3"
  },
  "language_info": {
   "codemirror_mode": {
    "name": "ipython",
    "version": 3
   },
   "file_extension": ".py",
   "mimetype": "text/x-python",
   "name": "python",
   "nbconvert_exporter": "python",
   "pygments_lexer": "ipython3",
   "version": "3.9.13"
  }
 },
 "nbformat": 4,
 "nbformat_minor": 5
}
